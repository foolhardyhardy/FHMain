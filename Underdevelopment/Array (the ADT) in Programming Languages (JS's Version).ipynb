{
 "cells": [
  {
   "cell_type": "markdown",
   "id": "4025c2c5",
   "metadata": {},
   "source": [
    "# Array (the ADT) in Programming Languages (JS's Version)"
   ]
  },
  {
   "cell_type": "markdown",
   "id": "f8cd9134",
   "metadata": {},
   "source": [
    "## The Most Basic Array (the ADT) is Homogeneous, Fix-sized, Integer-indexed Collection\n",
    "### Operations should be supported by this kind of array at least:\n",
    "* Create an array instance of size n.\n",
    "* Query the size of an array instance\n",
    "* Lookup and set values by index"
   ]
  },
  {
   "cell_type": "markdown",
   "id": "27f3d2ae",
   "metadata": {},
   "source": [
    "## Create an array instance of size n"
   ]
  },
  {
   "cell_type": "code",
   "execution_count": 1,
   "id": "6e5003a4",
   "metadata": {},
   "outputs": [
    {
     "name": "stdout",
     "output_type": "stream",
     "text": [
      "[ <10 empty items> ]\n"
     ]
    }
   ],
   "source": [
    "let n = 10\n",
    "let arr1 = new Array(n)\n",
    "console.log(arr)"
   ]
  },
  {
   "cell_type": "markdown",
   "id": "5a436d68",
   "metadata": {},
   "source": [
    "### More operations can be supported once those basic operations are avaliable:\n",
    "* Create an array instance filled by given elements (What if give how to get the elements rather than th elements themselves?)\n",
    "* Check whether a certain element is contained\n",
    "* Iterate over an array instance\n",
    "* duplicate an array instance"
   ]
  },
  {
   "cell_type": "markdown",
   "id": "e557fcb3",
   "metadata": {},
   "source": [
    "## Create an array instance filled by given elements"
   ]
  },
  {
   "cell_type": "code",
   "execution_count": null,
   "id": "527e1296",
   "metadata": {},
   "outputs": [],
   "source": [
    "arr2 = [1, 2, 3, 4]\n",
    "arr3 = new Array(1, 2, 3, 4)\n",
    "console.log(arr2)\n",
    "console.log(arr3)"
   ]
  },
  {
   "cell_type": "markdown",
   "id": "07d95028",
   "metadata": {},
   "source": [
    "### What if elements are not given explicitly but by giving how to produce them?"
   ]
  },
  {
   "cell_type": "code",
   "execution_count": null,
   "id": "3c263fc2",
   "metadata": {},
   "outputs": [],
   "source": [
    "function *tenRandValGen() {\n",
    "    for(let i = 0; i < 10; i++) {\n",
    "        yield Math.random()\n",
    "    }\n",
    "}\n",
    "arr4 = Array.from(tenRandValGen(), (elem) => elem)\n",
    "console.log(arr4)"
   ]
  }
 ],
 "metadata": {
  "kernelspec": {
   "display_name": "Javascript (Node.js)",
   "language": "javascript",
   "name": "javascript"
  },
  "language_info": {
   "file_extension": ".js",
   "mimetype": "application/javascript",
   "name": "javascript",
   "version": "17.3.0"
  }
 },
 "nbformat": 4,
 "nbformat_minor": 5
}
