{
 "cells": [
  {
   "cell_type": "markdown",
   "metadata": {},
   "source": [
    "# File IO in C\n",
    "This notebook is written to show how to achieve the common file IO task using only C and its standard library. And I written it by raise prototype problems and solve them."
   ]
  },
  {
   "cell_type": "markdown",
   "metadata": {},
   "source": [
    "## Where are the file IO utilities?"
   ]
  },
  {
   "cell_type": "code",
   "execution_count": 1,
   "metadata": {},
   "outputs": [],
   "source": [
    "#include <stdio.h>\n",
    "#include <wchar.h>"
   ]
  },
  {
   "cell_type": "markdown",
   "metadata": {},
   "source": [
    "## What is the abstraction provided for a IO stream?\n",
    "In most cases, the only IO stream type you can handle in C and C standard library is file."
   ]
  },
  {
   "cell_type": "code",
   "execution_count": 2,
   "metadata": {},
   "outputs": [
    {
     "name": "stderr",
     "output_type": "stream",
     "text": [
      "/tmp/tmpaha_1tvy.c: In function ‘main’:\n",
      "/tmp/tmpaha_1tvy.c:5:7: warning: unused variable ‘output_stream_example’ [-Wunused-variable]\n",
      " FILE *output_stream_example = stdout;\n",
      "       ^~~~~~~~~~~~~~~~~~~~~\n",
      "/tmp/tmpaha_1tvy.c:4:7: warning: unused variable ‘input_stream_example’ [-Wunused-variable]\n",
      " FILE *input_stream_example = stdin;\n",
      "       ^~~~~~~~~~~~~~~~~~~~\n"
     ]
    }
   ],
   "source": [
    "FILE *input_stream_example = stdin;\n",
    "FILE *output_stream_example = stdout;"
   ]
  },
  {
   "cell_type": "markdown",
   "metadata": {},
   "source": [
    "## Problem 1:  \n",
    "Suppose there is a file \"input\", write the content of \"input\" into a new file named \"output\"."
   ]
  },
  {
   "cell_type": "code",
   "execution_count": 4,
   "metadata": {},
   "outputs": [],
   "source": [
    "const char *input_file_name = \"input\";\n",
    "const char *output_file_name = \"output\";\n",
    "FILE *input_file = fopen(input_file_name, \"r\");\n",
    "if(input_file == NULL) {\n",
    "    printf(\"\\\"%s\\\" not find.\\n\");\n",
    "}\n",
    "FILE *output_file = fopen(output_file_name, \"w\");\n",
    "#define n_size 256\n",
    "unsigned char buffer[n_size];\n",
    "size_t n_read = 0;\n",
    "do {\n",
    "    n_read = fread((void*)buffer, 1, n_size, input_file);\n",
    "    fwrite((void*)buffer, 1, n_read, output_file);\n",
    "} while(n_read == n_size);\n",
    "fclose(input_file);\n",
    "fclose(output_file);"
   ]
  },
  {
   "cell_type": "code",
   "execution_count": null,
   "metadata": {},
   "outputs": [],
   "source": []
  }
 ],
 "metadata": {
  "kernelspec": {
   "display_name": "C",
   "language": "c",
   "name": "c"
  },
  "language_info": {
   "file_extension": ".c",
   "mimetype": "text/x-csrc",
   "name": "text/x-csrc"
  },
  "orig_nbformat": 4
 },
 "nbformat": 4,
 "nbformat_minor": 2
}
