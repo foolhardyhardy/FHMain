{
 "cells": [
  {
   "cell_type": "markdown",
   "id": "e5377f52",
   "metadata": {},
   "source": [
    "# Class in TypeScript"
   ]
  },
  {
   "cell_type": "markdown",
   "id": "2d351324",
   "metadata": {},
   "source": [
    "## First Question: Is a class in TypeScrpt an Object in the OOP Sense?"
   ]
  },
  {
   "cell_type": "code",
   "execution_count": 2,
   "id": "2b8f8b6b",
   "metadata": {},
   "outputs": [],
   "source": [
    "class StupidClass {};"
   ]
  },
  {
   "cell_type": "code",
   "execution_count": 3,
   "id": "00408501",
   "metadata": {},
   "outputs": [
    {
     "name": "stdout",
     "output_type": "stream",
     "text": [
      "function\n"
     ]
    }
   ],
   "source": [
    "console.log(typeof StupidClass)"
   ]
  },
  {
   "cell_type": "markdown",
   "id": "047ac8c0",
   "metadata": {},
   "source": [
    "As you can see, a class in TypeScript is itself an OOP object."
   ]
  },
  {
   "cell_type": "markdown",
   "id": "34147af9",
   "metadata": {},
   "source": [
    "## Syntax and Semantic of TypeScript Class Declaration\n",
    "Class is proposed for the purpose of grouping related data and code together (although only partially true, one might understand a class this way when they met a class first time) . Thus questions like how to define a class with members, what kinds of members a class can have, what are the differences between different kind of class members would be natural to raise. Accordingly I think to learn how to put class members into a class first before other OOP mechanisms is a good idea.\n",
    "### Class Member or More Precisely Class Instance Member\n",
    "Because a class in TypeScript is itself an object and class instances are also objects, it should be carefully clarified that a syntactical construct is for definition of a class member or class instance member."
   ]
  },
  {
   "cell_type": "code",
   "execution_count": 6,
   "id": "9b94a261",
   "metadata": {},
   "outputs": [
    {
     "name": "stdout",
     "output_type": "stream",
     "text": [
      "number\n",
      "string\n",
      "undefined\n"
     ]
    }
   ],
   "source": [
    "class PointOrSomethingElse {\n",
    "    x;\n",
    "    y;\n",
    "}\n",
    "\n",
    "let reallypoint = new PointOrSomethingElse();\n",
    "reallypoint.x = 10;\n",
    "reallypoint.y = 12;\n",
    "let notpoint = new PointOrSomethingElse();\n",
    "notpoint.x = \"10\";\n",
    "console.log(typeof reallypoint.x)\n",
    "console.log(typeof notpoint.x)\n",
    "console.log(typeof notpoint.y)"
   ]
  },
  {
   "cell_type": "code",
   "execution_count": 7,
   "id": "063b114d",
   "metadata": {},
   "outputs": [
    {
     "name": "stderr",
     "output_type": "stream",
     "text": [
      "6:1 - Type 'string' is not assignable to type 'number'.\n"
     ]
    }
   ],
   "source": [
    "class Point {\n",
    "    x = 0;\n",
    "    y = 0;\n",
    "}\n",
    "let anotherpoint = new Point();\n",
    "anotherpoint.x = \"10\";"
   ]
  },
  {
   "cell_type": "code",
   "execution_count": 9,
   "id": "b67f0f55",
   "metadata": {},
   "outputs": [
    {
     "name": "stdout",
     "output_type": "stream",
     "text": [
      "\u001b[33m11\u001b[39m\n"
     ]
    }
   ],
   "source": [
    "class MoreClearPoint {\n",
    "    x: number = 0;\n",
    "    y: number = 0;\n",
    "}\n",
    "let clearlyapoint = new MoreClearPoint();\n",
    "clearlyapoint.x = 10;\n",
    "clearlyapoint.y = 11;"
   ]
  },
  {
   "cell_type": "markdown",
   "id": "f078688a",
   "metadata": {},
   "source": [
    "To utilize the static check provided by compiler, TypeScript provide an compiling option --strictPropertyInitialization, when set it, class field must be provided with initializer or be directly initialize in constructor (not initialize by calling other method in constructor). When necessary, you can use the definite assignment assertion to bypass this restriction."
   ]
  },
  {
   "cell_type": "code",
   "execution_count": 10,
   "id": "aa04e38c",
   "metadata": {},
   "outputs": [
    {
     "name": "stderr",
     "output_type": "stream",
     "text": [
      "2:21 - Declarations with definite assignment assertions must also have type annotations.\n"
     ]
    }
   ],
   "source": [
    "class ResourceWrapper {\n",
    "    externalResource!;\n",
    "}"
   ]
  },
  {
   "cell_type": "code",
   "execution_count": 11,
   "id": "c00504bd",
   "metadata": {},
   "outputs": [],
   "source": [
    "class ResourceWrapper {\n",
    "    externalResource!: any;\n",
    "}"
   ]
  },
  {
   "cell_type": "markdown",
   "id": "af824443",
   "metadata": {},
   "source": [
    "A class field declaration doesn't contain let, var, or const, but use can use a class field just like a variable declared by let or var. As for the additional semantic meaning attached by const, you use readonly modifier to achieve this on class field."
   ]
  },
  {
   "cell_type": "code",
   "execution_count": 15,
   "id": "cf203987",
   "metadata": {},
   "outputs": [],
   "source": [
    "class StubbornClass {\n",
    "    readonly hiddenproperty: any;\n",
    "    constructor() {\n",
    "        this.hiddenproperty = \"You can't change this readonly field of this stubborn class's instance.\";\n",
    "    }\n",
    "}"
   ]
  },
  {
   "cell_type": "code",
   "execution_count": 17,
   "id": "7108aca8",
   "metadata": {},
   "outputs": [
    {
     "name": "stderr",
     "output_type": "stream",
     "text": [
      "2:18 - Cannot assign to 'hiddenproperty' because it is a read-only property.\n"
     ]
    }
   ],
   "source": [
    "let stubborninstance = new StubbornClass();\n",
    "stubborninstance.hiddenproperty = \"I don't believe you are that stubborn!\";"
   ]
  },
  {
   "cell_type": "markdown",
   "id": "d9eb555f",
   "metadata": {},
   "source": [
    "TypeScript class constructor have been enhanced a lot comparing to JS counterpart with not only type annotation, defualt values, but also overloads."
   ]
  },
  {
   "cell_type": "code",
   "execution_count": 2,
   "id": "1591038d",
   "metadata": {},
   "outputs": [
    {
     "name": "stdout",
     "output_type": "stream",
     "text": [
      "OK\n"
     ]
    }
   ],
   "source": [
    "class NormallyConstructibleClass {\n",
    "    x: any;\n",
    "    constructor(x: any) {\n",
    "        this.x = x;\n",
    "        console.log(this.x);\n",
    "    }\n",
    "}\n",
    "\n",
    "let normallyConstructedINstance = new NormallyConstructibleClass(\"OK\");"
   ]
  },
  {
   "cell_type": "code",
   "execution_count": 3,
   "id": "7a9eef7e",
   "metadata": {},
   "outputs": [
    {
     "name": "stdout",
     "output_type": "stream",
     "text": [
      "It's ok in default.\n",
      "Ok to provide value!\n"
     ]
    }
   ],
   "source": [
    "class DefaultValuedClass {\n",
    "    x: any;\n",
    "    constructor(x: any = \"It's ok in default.\") {\n",
    "        this.x = x;\n",
    "        console.log(this.x);\n",
    "    }\n",
    "}\n",
    "\n",
    "let defaultValuedInstance = new DefaultValuedClass();\n",
    "let valueProvidedINstance = new DefaultValuedClass(\"Ok to provide value!\");"
   ]
  },
  {
   "cell_type": "markdown",
   "id": "553ce4c1",
   "metadata": {},
   "source": [
    "Maybe surprising, TypeScript do provide constructor overloads, but the mechanism is fairly different from those of other languages."
   ]
  },
  {
   "cell_type": "code",
   "execution_count": 4,
   "id": "045ca838",
   "metadata": {},
   "outputs": [
    {
     "name": "stderr",
     "output_type": "stream",
     "text": [
      "3:5 - Multiple constructor implementations are not allowed.\n",
      "7:5 - Multiple constructor implementations are not allowed.\n",
      "11:5 - Multiple constructor implementations are not allowed.\n",
      "18:74 - Argument of type 'boolean' is not assignable to parameter of type 'string'.\n",
      "19:38 - ',' expected.\n",
      "19:42 - Cannot find name 'ClassWithMultipleWaytoConstruct'. Did you mean 'ClassWithMultipleWayToConstruct'?\n"
     ]
    }
   ],
   "source": [
    "class ClassWithMultipleWayToConstruct {\n",
    "    x: any;\n",
    "    constructor(x: string) {\n",
    "        this.x = x;\n",
    "        console.log(\"Ok with string.\");\n",
    "    }\n",
    "    constructor(x: boolean) {\n",
    "        this.x = x;\n",
    "        console.log(\"Ok with boolean.\");\n",
    "    }\n",
    "    constructor(x?: any) {\n",
    "        this.x = x;\n",
    "        console.log(\"Also Ok with anything else.\")\n",
    "    }\n",
    "}\n",
    "\n",
    "let instanceConstructedWithString = new ClassWithMultipleWayToConstruct(\"OK\");\n",
    "let instacneConstructedWithBoolean = new ClassWithMultipleWayToConstruct(true);\n",
    "let instanceConstructedWithElseThing new ClassWithMultipleWaytoConstruct();"
   ]
  },
  {
   "cell_type": "markdown",
   "id": "fdd76911",
   "metadata": {},
   "source": [
    "TypeSript allow you to declare multiple constructor, but you can only implement one of them, and that one should have an compatible signature with others."
   ]
  },
  {
   "cell_type": "code",
   "execution_count": 13,
   "id": "d48f9707",
   "metadata": {},
   "outputs": [
    {
     "name": "stdout",
     "output_type": "stream",
     "text": [
      "OK\n",
      "OK\n",
      "OK\n"
     ]
    }
   ],
   "source": [
    "class ClassWithMultipleWayToConstruct {\n",
    "    x: string;\n",
    "    y: boolean;\n",
    "    \n",
    "    constructor(x: string);\n",
    "    constructor(y: boolean);\n",
    "    constructor(obj?: any);\n",
    "    constructor(obj?: any) {\n",
    "        if(typeof obj === \"string\") {\n",
    "            this.x = obj;\n",
    "            this.y = false;\n",
    "        } else if(typeof obj === \"boolean\") {\n",
    "            this.y = obj;\n",
    "            this.x = \"\";\n",
    "        }\n",
    "        this.x = obj && obj.x || \"\";\n",
    "        this.y = obj && obj.y || false;\n",
    "        console.log(\"OK\");\n",
    "    }\n",
    "}\n",
    "\n",
    "let instanceConstructedWithString = new ClassWithMultipleWayToConstruct(\"OK\");\n",
    "let instacneConstructedWithBoolean = new ClassWithMultipleWayToConstruct(true);\n",
    "let instanceConstructedWithElseThing = new ClassWithMultipleWayToConstruct({x: \"OK\", y: true});"
   ]
  },
  {
   "cell_type": "markdown",
   "id": "491ef0b9",
   "metadata": {},
   "source": [
    "In TypeScript, the inheritance mechanism is actually implemented using has-a way like other popular language. Thus, can super() first before reference this."
   ]
  },
  {
   "cell_type": "code",
   "execution_count": 14,
   "id": "15fb166d",
   "metadata": {},
   "outputs": [
    {
     "name": "stderr",
     "output_type": "stream",
     "text": [
      "4:5 - Constructors for derived classes must contain a 'super' call.\n",
      "5:9 - 'super' must be called before accessing 'this' in the constructor of a derived class.\n"
     ]
    }
   ],
   "source": [
    "class StupidBase {}\n",
    "class StupidSubclass extends StupidBase {\n",
    "    x: any;\n",
    "    constructor() {\n",
    "        this.x = \"OK\";\n",
    "    }\n",
    "}"
   ]
  },
  {
   "cell_type": "code",
   "execution_count": 15,
   "id": "da9f0f90",
   "metadata": {},
   "outputs": [],
   "source": [
    "class StupidBase {}\n",
    "class StupidSubclass extends StupidBase {\n",
    "    x: any;\n",
    "    constructor() {\n",
    "        super();\n",
    "        this.x = \"OK\";\n",
    "    }\n",
    "}"
   ]
  },
  {
   "cell_type": "code",
   "execution_count": null,
   "id": "b759ea30",
   "metadata": {},
   "outputs": [],
   "source": []
  }
 ],
 "metadata": {
  "kernelspec": {
   "display_name": "TypeScript",
   "language": "typescript",
   "name": "tslab"
  },
  "language_info": {
   "codemirror_mode": {
    "mode": "typescript",
    "name": "javascript",
    "typescript": true
   },
   "file_extension": ".ts",
   "mimetype": "text/typescript",
   "name": "typescript",
   "version": "3.7.2"
  }
 },
 "nbformat": 4,
 "nbformat_minor": 5
}
