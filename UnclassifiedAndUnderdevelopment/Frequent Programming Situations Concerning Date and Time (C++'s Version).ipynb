{
 "cells": [
  {
   "cell_type": "markdown",
   "id": "6e18f45f",
   "metadata": {},
   "source": [
    "# Frequent Programming Situations Concerning Date and Time (C++'s Version)"
   ]
  },
  {
   "cell_type": "markdown",
   "id": "8010d2d5",
   "metadata": {},
   "source": [
    "Why do we need such an abstraction as Date Time? Of course, Date Time can be stimulated by plain integer, but it would cost a lot of energy to mediate between different time system. Thus a Date Time abstraction with plenty of functions is convienient.\n",
    "Date Time is actually two thing closely related - Date and Time Interval."
   ]
  },
  {
   "cell_type": "markdown",
   "id": "682e473f",
   "metadata": {},
   "source": [
    "Is there an abstraction for Date Time in C++ standard library?\n",
    "The answer is yes. C++ provide two time-related library - chrono library and the C-style time library."
   ]
  },
  {
   "cell_type": "code",
   "execution_count": 3,
   "id": "443e3044",
   "metadata": {},
   "outputs": [],
   "source": [
    "#include <chrono>\n",
    "#include <ctime>\n",
    "#include <iostream>\n",
    "using namespace std;"
   ]
  },
  {
   "cell_type": "markdown",
   "id": "905a8449",
   "metadata": {},
   "source": [
    "Although the chrono library is aimed to replace the C-style time library, however, utill C++14, the chrono library is not particuarly useful. The chrono might be surfficient in daily programming since C++20."
   ]
  },
  {
   "cell_type": "markdown",
   "id": "045afc6f",
   "metadata": {},
   "source": [
    "## Common situations"
   ]
  },
  {
   "cell_type": "markdown",
   "id": "df8b8160",
   "metadata": {},
   "source": [
    "Given two date, how to get the interval between them?"
   ]
  },
  {
   "cell_type": "code",
   "execution_count": 6,
   "id": "74d0f817",
   "metadata": {},
   "outputs": [
    {
     "name": "stdout",
     "output_type": "stream",
     "text": [
      "Sun Jun  4 00:00:00 1989\n",
      "Fri Jan  7 06:28:07 2022\n"
     ]
    }
   ],
   "source": [
    "tm date1, date2;\n",
    "time_t date2t = time(nullptr);\n",
    "// date1 = 4, Jun, 1989; date2 = now\n",
    "date1.tm_year = 89; date1.tm_mon = 5; date1.tm_mday = 4;\n",
    "date2 = *gmtime(&date2t);\n",
    "cout << asctime(&date1);\n",
    "cout << asctime(&date2);"
   ]
  },
  {
   "cell_type": "markdown",
   "id": "f96b1185",
   "metadata": {},
   "source": [
    "Given one date and one interval, how to get the other date?"
   ]
  },
  {
   "cell_type": "code",
   "execution_count": null,
   "id": "29a6ca3b",
   "metadata": {},
   "outputs": [],
   "source": []
  },
  {
   "cell_type": "markdown",
   "id": "12611881",
   "metadata": {},
   "source": [
    "How given a interval of one time system, how to change it to another?"
   ]
  },
  {
   "cell_type": "code",
   "execution_count": null,
   "id": "5512a67d",
   "metadata": {},
   "outputs": [],
   "source": []
  },
  {
   "cell_type": "markdown",
   "id": "540ca035",
   "metadata": {},
   "source": [
    "How to get the current time?"
   ]
  },
  {
   "cell_type": "code",
   "execution_count": null,
   "id": "58f8139e",
   "metadata": {},
   "outputs": [],
   "source": []
  }
 ],
 "metadata": {
  "kernelspec": {
   "display_name": "C++14",
   "language": "C++14",
   "name": "xcpp14"
  },
  "language_info": {
   "codemirror_mode": "text/x-c++src",
   "file_extension": ".cpp",
   "mimetype": "text/x-c++src",
   "name": "c++",
   "version": "14"
  }
 },
 "nbformat": 4,
 "nbformat_minor": 5
}
