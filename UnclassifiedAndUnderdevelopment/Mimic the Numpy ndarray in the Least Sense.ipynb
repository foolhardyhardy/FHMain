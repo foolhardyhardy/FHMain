{
 "cells": [
  {
   "cell_type": "markdown",
   "metadata": {},
   "source": [
    "# Mimic the Numpy ndarray in the Least Sense"
   ]
  },
  {
   "cell_type": "markdown",
   "metadata": {},
   "source": [
    "In this notebook, I will try to write my version of ndarray providing the most common operations and behaviours of Numpy ndarray class, by which I believe I will obtain a tangible notion of the excellence of how Numpy ndarray is implemented."
   ]
  },
  {
   "cell_type": "code",
   "execution_count": 2,
   "metadata": {},
   "outputs": [],
   "source": [
    "import functools"
   ]
  },
  {
   "cell_type": "code",
   "execution_count": 1,
   "metadata": {},
   "outputs": [],
   "source": [
    "class MyNdarray:\n",
    "    pass"
   ]
  },
  {
   "cell_type": "markdown",
   "metadata": {},
   "source": [
    "## What is an instance of ndarray abstractly?\n",
    "I believe for an instance of ndarray of shape $(n_1, n_2, \\cdots, n_k)$, there is a bijection (one-to-one corespondence) between it and a legitimate point in $R^{n_1 \\times n_2 \\times \\cdots \\times n_k}$ space.\n",
    "For example, in $R^{2\\times 2}$ space, $\\begin{bmatrix}1 & 2\\\\ 3 & 4 \\end{bmatrix}$ is a possible point, it should be instantiate as an instance of (2,2) ndarray. And in $R^{1\\times 1}$, $[[]]$ is a illegal point, so personally I think ndarray implementation should reject to instantiate this kind of instance.\n",
    "\n",
    "I think a $R^{n_1 \\times n_2 \\times \\cdots \\times n_k}$ point can be described by a tuple $(n_1, n_2, \\cdots, n_k)$, a linear sequence of components of the points, and coresponding linearity rule."
   ]
  },
  {
   "cell_type": "code",
   "execution_count": 3,
   "metadata": {},
   "outputs": [],
   "source": [
    "# Assume ::shape is an iterable of positive integers, ::data is an iterable of integers whose size conform to ::shape.\n",
    "def initializerForMyNdarray(self, shape, data = None):\n",
    "    self.shape = tuple(shape)\n",
    "    self.ndim = len(self.shape)\n",
    "    self.size = functools.reduce(lambda x, y: x*y, self.shape)\n",
    "    if data == None:\n",
    "        self.data = [0 for i in range(self.size)]\n",
    "    else:\n",
    "        self.data = data\n",
    "\n",
    "MyNdarray.__init__ = initializerForMyNdarray"
   ]
  },
  {
   "cell_type": "code",
   "execution_count": 10,
   "metadata": {},
   "outputs": [
    {
     "name": "stdout",
     "output_type": "stream",
     "text": [
      "<__main__.MyNdarray object at 0x7f4d880a1e20>\n",
      "4\n",
      "(2, 2)\n",
      "2\n"
     ]
    }
   ],
   "source": [
    "arr1 = MyNdarray((2, 2), [1,2,3,4])\n",
    "print(arr1)\n",
    "print(arr1.size)\n",
    "print(arr1.shape)\n",
    "print(arr1.ndim)"
   ]
  },
  {
   "cell_type": "markdown",
   "metadata": {},
   "source": [
    "## What is the relationship between the index of a certern component in a ndarray instance and the sequential order of the component in the linearity of the ndarray instance?\n",
    "For $\\begin{bmatrix}1 & 2\\\\ 3 & 4 \\end{bmatrix}$, the component 1 is of index (1, 1). With the linearity rule of row-major order, the coresponding linearity is $[1, 2, 3, 4]$, thus component 1 is of order 0 in this linearity.\n",
    "Bridging index to order interchagably is an important part in implementation."
   ]
  },
  {
   "cell_type": "code",
   "execution_count": 17,
   "metadata": {},
   "outputs": [],
   "source": [
    "## Assume in row-major order and the ::index in legal\n",
    "def index2order(self, index):\n",
    "    base = self.size\n",
    "    order = 0\n",
    "    for (dim, comp) in zip(self.shape, index):\n",
    "        base = base // dim\n",
    "        order += (comp - 1)*base\n",
    "    return order\n",
    "\n",
    "def order2index(self, order):\n",
    "    index = []\n",
    "    base = self.size\n",
    "    for dim in self.shape:\n",
    "        base = base // dim\n",
    "        comp, order = divmod(order, base)\n",
    "        index.append(comp + 1)\n",
    "    return tuple(index)\n",
    "\n",
    "MyNdarray.index2order = index2order\n",
    "MyNdarray.order2index = order2index"
   ]
  },
  {
   "cell_type": "code",
   "execution_count": 18,
   "metadata": {},
   "outputs": [
    {
     "name": "stdout",
     "output_type": "stream",
     "text": [
      "1\n",
      "(2, 2)\n"
     ]
    }
   ],
   "source": [
    "arr2 = MyNdarray((2,2), [1,2,3,4])\n",
    "print(arr2.index2order((1,2)))\n",
    "print(arr2.order2index(3))"
   ]
  },
  {
   "cell_type": "code",
   "execution_count": 4,
   "metadata": {},
   "outputs": [],
   "source": [
    "class MyNdarray:\n",
    "    def __init__(self, shape): \n",
    "        self.shape = shape\n",
    "        self.ndim = len(shape)\n",
    "        import functools\n",
    "        self.size = functools.reduce(lambda x, y: x*y, shape)\n",
    "        self.data = [0 for i in range(self.size)]\n",
    "        \n",
    "    def __getlinearindex(self, key):\n",
    "        index = 0\n",
    "        acc = self.size\n",
    "        for i in range(self.ndim):\n",
    "            acc = acc / self.shape[i]\n",
    "            index = index + key[i]*acc\n",
    "        index = index - 1\n",
    "        return index\n",
    "        \n",
    "    def __getitem__(self, key):\n",
    "        if len(key) != self.size():\n",
    "            raise ValueError(\"Index is illegal!\")\n",
    "        if any([key[i] < 0 or key[i] >= self.shape[i] for i in range(self.ndim)]):\n",
    "            raise ValueError(\"Index is out of range!\")\n",
    "        index = self.__getlinearindex(key)\n",
    "        return self.data[index]\n",
    "    \n",
    "    def __setitem__(self, key, value):\n",
    "        if len(key) != self.size():\n",
    "            raise ValueError(\"Index is illegal!\")\n",
    "        if any([key[i] < 0 or key[i] >= self.shape[i] for i in range(self.ndim)]):\n",
    "            raise ValueError(\"Index is out of range!\")\n",
    "        if not isinstance(value, int):\n",
    "            raise ValueError(\"Only support int value!\")\n",
    "        index = self.__getlinearindex(key)\n",
    "        self.data[index] = value\n",
    "        \n",
    "    def __transform2string(self, dim, lo, unit, buffer):\n",
    "        if dim == self.ndim - 1:\n",
    "            buffer.write(\"[\")\n",
    "            for i in range(self.shape[dim]):\n",
    "                buffer.write(str(self.data[lo+i]))\n",
    "                if i < self.shape[dim] - 1:\n",
    "                    buffer.write(\", \")\n",
    "            buffer.write(\"]\")\n",
    "            return \n",
    "        buffer.write(\"[\")\n",
    "        for i in range(self.shape[dim]):\n",
    "            if i != 0:\n",
    "                buffer.write(\" \"*(dim+1))\n",
    "            self.__transform2string(dim+1, lo+unit*i, unit//self.shape[dim+1], buffer)\n",
    "            if i < self.shape[dim] - 1:\n",
    "                buffer.write(\",\\n\")\n",
    "        buffer.write(\"]\")\n",
    "            \n",
    "        \n",
    "    def __str__(self):\n",
    "        import io\n",
    "        buffer = io.StringIO()\n",
    "        self.__transform2string(0, 0, self.size//self.shape[0], buffer);\n",
    "        res = buffer.getvalue()\n",
    "        buffer.close()\n",
    "        return res\n",
    "    \n",
    "    @classmethod\n",
    "    def __getlistnestlevel(cls, ls, acc):\n",
    "        if isinstance(ls, list):\n",
    "            if len(ls) == 0:\n",
    "                raise ValueError(\"List should not be empty!\")\n",
    "            return cls.__getlistnestlevel(ls[0], acc+1)\n",
    "        else:\n",
    "            return acc\n",
    "        \n",
    "    @classmethod\n",
    "    def __getlistshape(cls, ls, shape):\n",
    "        if isinstance(ls, list):\n",
    "            shape.append(len(ls))\n",
    "            return cls.__getlistshape(ls[0], shape)\n",
    "        else:\n",
    "            return shape\n",
    "    \n",
    "    @classmethod\n",
    "    def __assignlist2ndarray(cls, ls, arr, dim, lo, unit):\n",
    "        if dim == arr.ndim - 1:\n",
    "            for i in range(arr.shape[dim]):\n",
    "                arr.data[lo+i] = ls[i]\n",
    "        else:\n",
    "            for i in range(arr.shape[dim]):\n",
    "                cls.__assignlist2ndarray(ls[i], arr, dim+1, lo+unit*i, unit//arr.shape[dim+1])\n",
    "    \n",
    "    @classmethod\n",
    "    def array(cls, ls):\n",
    "        ndim = cls.__getlistnestlevel(ls, 0)\n",
    "        shape = cls.__getlistshape(ls, [])\n",
    "        res = MyNdarray(shape)\n",
    "        cls.__assignlist2ndarray(ls, res, 0, 0, res.size//res.shape[0])\n",
    "        return res\n",
    "    \n",
    "    def __add__(self, other):\n",
    "        if other.shape != self.shape:\n",
    "            raise ValueError(\"Addition require two operands are of the same shape.\")\n",
    "        res = MyNdarray(self.shape)\n",
    "        for i in range(len(self.data)):\n",
    "            res.data[i] = self.data[i] + other.data[i]\n",
    "        return res\n",
    "                    "
   ]
  },
  {
   "cell_type": "code",
   "execution_count": 5,
   "metadata": {},
   "outputs": [
    {
     "name": "stdout",
     "output_type": "stream",
     "text": [
      "[[1, 2, 3],\n",
      " [2, 4, 6],\n",
      " [3, 6, 9]]\n"
     ]
    }
   ],
   "source": [
    "arr = MyNdarray.array([[1, 2, 3], [2, 4, 6], [3, 6, 9]])\n",
    "print(arr)"
   ]
  },
  {
   "cell_type": "code",
   "execution_count": 6,
   "metadata": {},
   "outputs": [
    {
     "name": "stdout",
     "output_type": "stream",
     "text": [
      "[[2, 4, 6],\n",
      " [4, 8, 12],\n",
      " [6, 12, 18]]\n"
     ]
    }
   ],
   "source": [
    "a = arr + arr\n",
    "print(a)"
   ]
  },
  {
   "cell_type": "markdown",
   "metadata": {},
   "source": [
    "## Basic test works, so in the following comes the more careful unit tests."
   ]
  },
  {
   "cell_type": "code",
   "execution_count": null,
   "metadata": {},
   "outputs": [],
   "source": []
  }
 ],
 "metadata": {
  "kernelspec": {
   "display_name": "Python 3 (ipykernel)",
   "language": "python",
   "name": "python3"
  },
  "language_info": {
   "codemirror_mode": {
    "name": "ipython",
    "version": 3
   },
   "file_extension": ".py",
   "mimetype": "text/x-python",
   "name": "python",
   "nbconvert_exporter": "python",
   "pygments_lexer": "ipython3",
   "version": "3.9.5"
  }
 },
 "nbformat": 4,
 "nbformat_minor": 4
}
