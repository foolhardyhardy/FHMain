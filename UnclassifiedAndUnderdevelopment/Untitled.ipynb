{
 "cells": [
  {
   "cell_type": "markdown",
   "id": "e5377f52",
   "metadata": {},
   "source": [
    "# Class in TypeScript"
   ]
  },
  {
   "cell_type": "markdown",
   "id": "2d351324",
   "metadata": {},
   "source": [
    "## First Question: Is a class in TypeScrpt an Object in the OOP Sense?"
   ]
  },
  {
   "cell_type": "code",
   "execution_count": 2,
   "id": "2b8f8b6b",
   "metadata": {},
   "outputs": [],
   "source": [
    "class StupidClass {};"
   ]
  },
  {
   "cell_type": "code",
   "execution_count": 3,
   "id": "00408501",
   "metadata": {},
   "outputs": [
    {
     "name": "stdout",
     "output_type": "stream",
     "text": [
      "function\n"
     ]
    }
   ],
   "source": [
    "console.log(typeof StupidClass)"
   ]
  },
  {
   "cell_type": "markdown",
   "id": "047ac8c0",
   "metadata": {},
   "source": [
    "As you can see, a class in TypeScript is itself an OOP object."
   ]
  },
  {
   "cell_type": "markdown",
   "id": "34147af9",
   "metadata": {},
   "source": [
    "## Syntax and Semantic of TypeScript Class\n",
    "Class is proposed for the purpose of grouping related data and code together (although only partially true, one might understand a class this way when they met a class first time) . Thus questions like how to define a class with members, what kinds of members a class can have, what are the differences between different kind of class members would be natural to raise. Accordingly I think to learn how to put class members into a class first before other OOP mechanisms is a good idea.\n",
    "### Class Member or More Precisely Class Instance Member\n",
    "Because a class in TypeScript is itself an object and class instances are also objects, it should be carefully clarified that a syntactical construct is for definition of a class member or class instance member."
   ]
  },
  {
   "cell_type": "code",
   "execution_count": 6,
   "id": "9b94a261",
   "metadata": {},
   "outputs": [
    {
     "name": "stdout",
     "output_type": "stream",
     "text": [
      "number\n",
      "string\n",
      "undefined\n"
     ]
    }
   ],
   "source": [
    "class PointOrSomethingElse {\n",
    "    x;\n",
    "    y;\n",
    "}\n",
    "\n",
    "let reallypoint = new PointOrSomethingElse();\n",
    "reallypoint.x = 10;\n",
    "reallypoint.y = 12;\n",
    "let notpoint = new PointOrSomethingElse();\n",
    "notpoint.x = \"10\";\n",
    "console.log(typeof reallypoint.x)\n",
    "console.log(typeof notpoint.x)\n",
    "console.log(typeof notpoint.y)"
   ]
  },
  {
   "cell_type": "code",
   "execution_count": 7,
   "id": "063b114d",
   "metadata": {},
   "outputs": [
    {
     "name": "stderr",
     "output_type": "stream",
     "text": [
      "6:1 - Type 'string' is not assignable to type 'number'.\n"
     ]
    }
   ],
   "source": [
    "class Point {\n",
    "    x = 0;\n",
    "    y = 0;\n",
    "}\n",
    "let anotherpoint = new Point();\n",
    "anotherpoint.x = \"10\";"
   ]
  },
  {
   "cell_type": "code",
   "execution_count": 9,
   "id": "b67f0f55",
   "metadata": {},
   "outputs": [
    {
     "name": "stdout",
     "output_type": "stream",
     "text": [
      "\u001b[33m11\u001b[39m\n"
     ]
    }
   ],
   "source": [
    "class MoreClearPoint {\n",
    "    x: number = 0;\n",
    "    y: number = 0;\n",
    "}\n",
    "let clearlyapoint = new MoreClearPoint();\n",
    "clearlyapoint.x = 10;\n",
    "clearlyapoint.y = 11;"
   ]
  },
  {
   "cell_type": "markdown",
   "id": "f078688a",
   "metadata": {},
   "source": [
    "To utilize the static check provided by compiler, TypeScript provide an compiling option --strictPropertyInitialization, when set it, class field must be provided with initializer or be directly initialize in constructor (not initialize by calling other method in constructor). When necessary, you can use the definite assignment assertion to bypass this restriction."
   ]
  },
  {
   "cell_type": "code",
   "execution_count": 10,
   "id": "aa04e38c",
   "metadata": {},
   "outputs": [
    {
     "name": "stderr",
     "output_type": "stream",
     "text": [
      "2:21 - Declarations with definite assignment assertions must also have type annotations.\n"
     ]
    }
   ],
   "source": [
    "class ResourceWrapper {\n",
    "    externalResource!;\n",
    "}"
   ]
  },
  {
   "cell_type": "code",
   "execution_count": 11,
   "id": "c00504bd",
   "metadata": {},
   "outputs": [],
   "source": [
    "class ResourceWrapper {\n",
    "    externalResource!: any;\n",
    "}"
   ]
  },
  {
   "cell_type": "markdown",
   "id": "af824443",
   "metadata": {},
   "source": [
    "A class field declaration doesn't contain let, var, or const, but use can use a class field just like a variable declared by let or var. As for the additional semantic meaning attached by const, you use readonly modifier to achieve this on class field."
   ]
  },
  {
   "cell_type": "code",
   "execution_count": 15,
   "id": "cf203987",
   "metadata": {},
   "outputs": [],
   "source": [
    "class StubbornClass {\n",
    "    readonly hiddenproperty: any;\n",
    "    constructor() {\n",
    "        this.hiddenproperty = \"You can't change this readonly field of this stubborn class's instance.\";\n",
    "    }\n",
    "}"
   ]
  },
  {
   "cell_type": "code",
   "execution_count": 17,
   "id": "7108aca8",
   "metadata": {},
   "outputs": [
    {
     "name": "stderr",
     "output_type": "stream",
     "text": [
      "2:18 - Cannot assign to 'hiddenproperty' because it is a read-only property.\n"
     ]
    }
   ],
   "source": [
    "let stubborninstance = new StubbornClass();\n",
    "stubborninstance.hiddenproperty = \"I don't believe you are that stubborn!\";"
   ]
  },
  {
   "cell_type": "code",
   "execution_count": null,
   "id": "255a2a75",
   "metadata": {},
   "outputs": [],
   "source": []
  }
 ],
 "metadata": {
  "kernelspec": {
   "display_name": "TypeScript",
   "language": "typescript",
   "name": "tslab"
  },
  "language_info": {
   "codemirror_mode": {
    "mode": "typescript",
    "name": "javascript",
    "typescript": true
   },
   "file_extension": ".ts",
   "mimetype": "text/typescript",
   "name": "typescript",
   "version": "3.7.2"
  }
 },
 "nbformat": 4,
 "nbformat_minor": 5
}
