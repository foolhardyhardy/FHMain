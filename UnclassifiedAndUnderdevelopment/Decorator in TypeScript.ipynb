{
 "cells": [
  {
   "cell_type": "markdown",
   "id": "04157521",
   "metadata": {},
   "source": [
    "# Decorator in TypeScript\n",
    "There is also a concept decorator in Python, which is essentially a function that take a function argument and then return another function."
   ]
  },
  {
   "cell_type": "markdown",
   "id": "572e81d1",
   "metadata": {},
   "source": [
    "## Class Decorator\n",
    "In my oppion, class decorator in TypeScript is just like the counterpart in Python."
   ]
  },
  {
   "cell_type": "code",
   "execution_count": 11,
   "id": "5be1afda",
   "metadata": {},
   "outputs": [],
   "source": [
    "function seal(constructor: Function) {\n",
    "    Object.seal(constructor);\n",
    "    Object.seal(constructor.prototype);\n",
    "    console.log(\"Decorator have been called.\");\n",
    "}"
   ]
  },
  {
   "cell_type": "code",
   "execution_count": 15,
   "id": "c52f8603",
   "metadata": {},
   "outputs": [
    {
     "name": "stdout",
     "output_type": "stream",
     "text": [
      "Decorator have been called.\n"
     ]
    }
   ],
   "source": [
    "@seal\n",
    "class ImmutableClass {\n",
    "    constructor() {}\n",
    "}"
   ]
  },
  {
   "cell_type": "code",
   "execution_count": 19,
   "id": "2c75ee5a",
   "metadata": {},
   "outputs": [
    {
     "name": "stdout",
     "output_type": "stream",
     "text": [
      "\u001b[33mtrue\u001b[39m\n"
     ]
    }
   ],
   "source": [
    "let obj = new ImmutableClass();\n",
    "Object.isSealed(ImmutableClass);"
   ]
  },
  {
   "cell_type": "markdown",
   "id": "5f4ab154",
   "metadata": {},
   "source": [
    "## Method Decorator\n",
    "In TypeScript, method decorator is applied to property descriptor of that method, it is differnt from Python decorator."
   ]
  },
  {
   "cell_type": "code",
   "execution_count": null,
   "id": "78cdd09b",
   "metadata": {},
   "outputs": [],
   "source": []
  }
 ],
 "metadata": {
  "kernelspec": {
   "display_name": "TypeScript",
   "language": "typescript",
   "name": "tslab"
  },
  "language_info": {
   "codemirror_mode": {
    "mode": "typescript",
    "name": "javascript",
    "typescript": true
   },
   "file_extension": ".ts",
   "mimetype": "text/typescript",
   "name": "typescript",
   "version": "3.7.2"
  }
 },
 "nbformat": 4,
 "nbformat_minor": 5
}
