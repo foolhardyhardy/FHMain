{
 "cells": [
  {
   "cell_type": "markdown",
   "metadata": {},
   "source": [
    "# My Understanding about the Meaning of Metadata or Meta-anything\n",
    "I first heared metafile in the context of the university subject *Operating System*, where it says that file is an abstraction for data and storage and there are some places that the metadata of a certain file is stored. So basically, A file is a bunch of data for something, and metadata for a file is also a bunch of data for something which itself is a bunch of data. Here you would notice the recursive structure.\n",
    "\n",
    "The same apply to the word *metaverse*. An universe is a bunch of things, and a metaverse is also a bunch of things which themselves are universes. "
   ]
  },
  {
   "cell_type": "code",
   "execution_count": null,
   "metadata": {},
   "outputs": [],
   "source": []
  }
 ],
 "metadata": {
  "kernelspec": {
   "display_name": "Python 3",
   "language": "python",
   "name": "python3"
  },
  "language_info": {
   "codemirror_mode": {
    "name": "ipython",
    "version": 3
   },
   "file_extension": ".py",
   "mimetype": "text/x-python",
   "name": "python",
   "nbconvert_exporter": "python",
   "pygments_lexer": "ipython3",
   "version": "3.8.6"
  }
 },
 "nbformat": 4,
 "nbformat_minor": 4
}
