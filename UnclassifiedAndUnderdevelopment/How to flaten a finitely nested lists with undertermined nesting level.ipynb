{
 "cells": [
  {
   "cell_type": "markdown",
   "id": "0e6e8992",
   "metadata": {},
   "source": [
    "# How to flaten a finitely nested lists with undertermined nesting level?"
   ]
  },
  {
   "cell_type": "code",
   "execution_count": 1,
   "id": "76216201",
   "metadata": {},
   "outputs": [],
   "source": [
    "import typing"
   ]
  },
  {
   "cell_type": "markdown",
   "id": "7f71eb8f",
   "metadata": {},
   "source": [
    "## A general recursive solution:"
   ]
  },
  {
   "cell_type": "code",
   "execution_count": 5,
   "id": "abfa1ac7",
   "metadata": {},
   "outputs": [],
   "source": [
    "def flatten1helper(ls, container):\n",
    "    if isinstance(ls, typing.Iterable):\n",
    "        for elem in ls:\n",
    "            flatten1helper(elem, container)\n",
    "    else:\n",
    "        container.append(ls)\n",
    "        \n",
    "def flatten1(ls):\n",
    "    res = []\n",
    "    flatten1helper(ls, res)\n",
    "    return res"
   ]
  },
  {
   "cell_type": "code",
   "execution_count": 6,
   "id": "e79478a5",
   "metadata": {},
   "outputs": [
    {
     "name": "stdout",
     "output_type": "stream",
     "text": [
      "[1, 2, 3, 4, 5, 6, 7, 8, 9, 10, 11, 12, 13, 14, 15, 16, 17, 18, 19, 20, 21, 22, 23, 24, 25]\n"
     ]
    }
   ],
   "source": [
    "ls1 = [[[1, 2, [3, 4, [5, [6, 7, 8, [9], 10, [11, 12], 13], [14, 15 , [16]], 17], [18, 19]], 20], 21], [22, 23, [24]], 25]\n",
    "print(flatten1(ls1))"
   ]
  },
  {
   "cell_type": "markdown",
   "id": "4cd3486f",
   "metadata": {},
   "source": [
    "## A more Pythonic solution using generator function:"
   ]
  },
  {
   "cell_type": "code",
   "execution_count": 9,
   "id": "c6d89558",
   "metadata": {},
   "outputs": [],
   "source": [
    "def flatten2(ls):\n",
    "    for elem in ls:\n",
    "        if isinstance(elem, typing.Iterable):\n",
    "            for atom in flatten2(elem):\n",
    "                yield atom\n",
    "        else:\n",
    "            yield elem"
   ]
  },
  {
   "cell_type": "code",
   "execution_count": 10,
   "id": "9390a7f8",
   "metadata": {},
   "outputs": [
    {
     "name": "stdout",
     "output_type": "stream",
     "text": [
      "[1, 2, 3, 4, 5, 6, 7, 8, 9, 10, 11, 12, 13, 14, 15, 16, 17, 18, 19, 20, 21, 22, 23, 24, 25]\n"
     ]
    }
   ],
   "source": [
    "print(list(flatten2(ls1)))"
   ]
  },
  {
   "cell_type": "code",
   "execution_count": null,
   "id": "7b43c9ff",
   "metadata": {},
   "outputs": [],
   "source": []
  }
 ],
 "metadata": {
  "kernelspec": {
   "display_name": "Python 3 (ipykernel)",
   "language": "python",
   "name": "python3"
  },
  "language_info": {
   "codemirror_mode": {
    "name": "ipython",
    "version": 3
   },
   "file_extension": ".py",
   "mimetype": "text/x-python",
   "name": "python",
   "nbconvert_exporter": "python",
   "pygments_lexer": "ipython3",
   "version": "3.9.5"
  }
 },
 "nbformat": 4,
 "nbformat_minor": 5
}
