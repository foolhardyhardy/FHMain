{
 "cells": [
  {
   "cell_type": "markdown",
   "id": "520c03cf",
   "metadata": {},
   "source": [
    "# Xeus-cling Test Notebook"
   ]
  },
  {
   "cell_type": "code",
   "execution_count": 3,
   "id": "947e251c",
   "metadata": {},
   "outputs": [],
   "source": [
    "#include <iostream>\n",
    "#include <vector>\n",
    "using namespace std;"
   ]
  },
  {
   "cell_type": "code",
   "execution_count": 4,
   "id": "5c84d9c5",
   "metadata": {},
   "outputs": [],
   "source": [
    "vector<int> a {1, 2, 3}"
   ]
  },
  {
   "cell_type": "code",
   "execution_count": 5,
   "id": "640ebb34",
   "metadata": {},
   "outputs": [
    {
     "name": "stdout",
     "output_type": "stream",
     "text": [
      "1 2 3 "
     ]
    }
   ],
   "source": [
    "for(int elem: a) {\n",
    "    cout << elem << \" \";\n",
    "}"
   ]
  },
  {
   "cell_type": "markdown",
   "id": "dffe5005",
   "metadata": {},
   "source": [
    "It seems everything works fine!"
   ]
  },
  {
   "cell_type": "code",
   "execution_count": null,
   "id": "7f140064",
   "metadata": {},
   "outputs": [],
   "source": []
  }
 ],
 "metadata": {
  "kernelspec": {
   "display_name": "C++11",
   "language": "C++11",
   "name": "xcpp11"
  },
  "language_info": {
   "codemirror_mode": "text/x-c++src",
   "file_extension": ".cpp",
   "mimetype": "text/x-c++src",
   "name": "c++",
   "version": "11"
  }
 },
 "nbformat": 4,
 "nbformat_minor": 5
}
